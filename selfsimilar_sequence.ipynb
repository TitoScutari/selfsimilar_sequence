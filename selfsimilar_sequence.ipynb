{
 "cells": [
  {
   "cell_type": "markdown",
   "metadata": {},
   "source": [
    "L'idea di base è generare delle sequenze autosomiglianti partendo da una sequenza iniziale molto breve"
   ]
  }
 ],
 "metadata": {
  "language_info": {
   "codemirror_mode": {
    "name": "ipython",
    "version": 3
   },
   "file_extension": ".py",
   "mimetype": "text/x-python",
   "name": "python",
   "nbconvert_exporter": "python",
   "pygments_lexer": "ipython3",
   "version": "3.7.4-final"
  },
  "orig_nbformat": 2,
  "kernelspec": {
   "name": "python37432bitvenvvenve49a8679132048c6b56fb88cba384e5b",
   "display_name": "Python 3.7.4 32-bit ('venv': venv)"
  }
 },
 "nbformat": 4,
 "nbformat_minor": 2
}